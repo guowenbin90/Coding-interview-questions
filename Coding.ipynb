{
  "nbformat": 4,
  "nbformat_minor": 0,
  "metadata": {
    "colab": {
      "name": "Coding.ipynb",
      "provenance": [],
      "authorship_tag": "ABX9TyPeqIT0O26MIty/b//n94fy",
      "include_colab_link": true
    },
    "kernelspec": {
      "name": "python3",
      "display_name": "Python 3"
    },
    "language_info": {
      "name": "python"
    }
  },
  "cells": [
    {
      "cell_type": "markdown",
      "metadata": {
        "id": "view-in-github",
        "colab_type": "text"
      },
      "source": [
        "<a href=\"https://colab.research.google.com/github/guowenbin90/Coding-interview-questions/blob/main/Coding.ipynb\" target=\"_parent\"><img src=\"https://colab.research.google.com/assets/colab-badge.svg\" alt=\"Open In Colab\"/></a>"
      ]
    },
    {
      "cell_type": "markdown",
      "source": [
        "1. Two Number Sum"
      ],
      "metadata": {
        "id": "8ooKVszmFNzU"
      }
    },
    {
      "cell_type": "code",
      "execution_count": null,
      "metadata": {
        "colab": {
          "base_uri": "https://localhost:8080/"
        },
        "id": "JN8D0I5yFEQf",
        "outputId": "b7f00be1-276b-451e-8c3f-4cd17c17b64a"
      },
      "outputs": [
        {
          "output_type": "stream",
          "name": "stdout",
          "text": [
            "[-1, 11]\n"
          ]
        }
      ],
      "source": [
        "# Solution 1 starts\n",
        "# O(n^2) time | O(1) space\n",
        "def twoNumberSum(array, targetSum):\n",
        "    result_list = []\n",
        "    for i in range(0, len(array) - 1):\n",
        "        first_number = array[i]\n",
        "        for j in range(i + 1, len(array)):\n",
        "            second_number = array[j]\n",
        "            sum = first_number + second_number\n",
        "            if sum == targetSum:\n",
        "                result_list.append(first_number)\n",
        "                result_list.append(second_number)\n",
        "\n",
        "    return sorted(result_list)\n",
        "# Solution 1 ends\n",
        "\n",
        "# Solution 2 starts\n",
        "# O(n) time | O(n) space\n",
        "def twoNumberSum2(array, targetSum):\n",
        "    result_list = []\n",
        "    for i in range(0, len(array) - 1):\n",
        "        first_number = array[i]\n",
        "        second_nsumber_expected = targetSum - first_number\n",
        "        secondary_array = array[i + 1:len(array)]\n",
        "        if second_nsumber_expected in secondary_array:\n",
        "            result_list.append(first_number)\n",
        "            result_list.append(second_nsumber_expected)\n",
        "\n",
        "    return sorted(result_list)\n",
        "# Solution 2 ends\n",
        "\n",
        "# Solution 3 starts\n",
        "# O(nlogn) time | O(1) space\n",
        "def twoNumberSum3(array, targetSum):\n",
        "    array.sort()\n",
        "    left = 0\n",
        "    right = len(array) - 1\n",
        "    while left < right:\n",
        "        current_sum = array[left] + array[right]\n",
        "        if current_sum == targetSum:\n",
        "            return [array[left], array[right]]\n",
        "        elif current_sum < targetSum:\n",
        "            left += 1\n",
        "        elif current_sum > targetSum:\n",
        "            right -= 1\n",
        "\n",
        "    return []\n",
        "# Solution 3 ends\n",
        "print(twoNumberSum([5, 3, -4, 8, 11, 1, -1, 6], 10))\n"
      ]
    },
    {
      "cell_type": "markdown",
      "source": [
        "2. Bubble Sort"
      ],
      "metadata": {
        "id": "0OxrelvvXMqJ"
      }
    },
    {
      "cell_type": "code",
      "source": [
        "# Best: O(n) time | O(1) space\n",
        "# Average: O(n^2) time | O(1) space\n",
        "# Worst: O(n^2) time | O(1) space\n",
        "def bubbleSort(array):\n",
        " \tisSorted = False\n",
        " \tcounter = 0\n",
        " \twhile not isSorted:\n",
        " \t\tisSorted = True\n",
        " \t\tfor i in range(len(array) - 1 - counter):\n",
        " \t\t\tif array[i] > array[i + 1]:\n",
        " \t\t\t\tswap(i, i + 1, array)\n",
        " \t\t\t\tisSorted = False\n",
        " \t\tcounter += 1\n",
        " \treturn array\n",
        "\n",
        "def swap(i, j, array):\n",
        " \tarray[i], array[j] = array[j], array[i]"
      ],
      "metadata": {
        "id": "qICaT6gGXMCq"
      },
      "execution_count": null,
      "outputs": []
    },
    {
      "cell_type": "code",
      "source": [
        "array_test = [5, 3, -4, 8, 11, 1, -1, 6]"
      ],
      "metadata": {
        "id": "HkB4qNjXY3Sb"
      },
      "execution_count": null,
      "outputs": []
    },
    {
      "cell_type": "code",
      "source": [
        "bubbleSort(array_test)"
      ],
      "metadata": {
        "id": "KhKXfYEhYy1u",
        "outputId": "26aa1e54-1641-4dbb-e62d-e5352b310f7f",
        "colab": {
          "base_uri": "https://localhost:8080/"
        }
      },
      "execution_count": null,
      "outputs": [
        {
          "output_type": "execute_result",
          "data": {
            "text/plain": [
              "[-4, -1, 1, 3, 5, 6, 8, 11]"
            ]
          },
          "metadata": {},
          "execution_count": 4
        }
      ]
    },
    {
      "cell_type": "markdown",
      "source": [
        "3. Insert Sort"
      ],
      "metadata": {
        "id": "O5X0OVszhcS6"
      }
    },
    {
      "cell_type": "code",
      "source": [
        "# Best: O(n) time | O(1) space\n",
        "# Average: O(n^2) time | O(1) space\n",
        "# Worst: O(n^2) time | O(1) space\n",
        "def insertionSort(array):\n",
        " \tfor i in range(1, len(array)):\n",
        " \t\tj = i\n",
        " \t\twhile j > 0 and array[j] < array[j - 1]:\n",
        " \t\t\tswap(j, j - 1, array)\n",
        " \t\t\tj -= 1\n",
        " \treturn array\n",
        "def swap(i, j, array):\n",
        " \tarray[i], array[j] = array[j], array[i]\n",
        "\n",
        "\n",
        "input_array = [8, 5, 2, 9, 5, 6, 3]\n",
        "sorted_array = insertionSort(input_array)\n",
        "print(\"Sorted Array: \", sorted_array)"
      ],
      "metadata": {
        "id": "0_dcCsOLhbuh",
        "outputId": "673107c6-b4d0-4519-c18f-12f91d536558",
        "colab": {
          "base_uri": "https://localhost:8080/"
        }
      },
      "execution_count": null,
      "outputs": [
        {
          "output_type": "stream",
          "name": "stdout",
          "text": [
            "Sorted Array:  [2, 3, 5, 5, 6, 8, 9]\n"
          ]
        }
      ]
    },
    {
      "cell_type": "markdown",
      "source": [
        "4. Selection Sort\n",
        "\n"
      ],
      "metadata": {
        "id": "wc6sbfpDrbeg"
      }
    },
    {
      "cell_type": "code",
      "source": [
        "# Best: O(n^2) time | O(1) space\n",
        "# Avarage: O(n^2) time | O(1) space\n",
        "# Worst: O(n^2) time | O(1) space\n",
        "def selectionSort(array):\n",
        "    current_index = 0\n",
        "    while current_index < len(array) - 1:\n",
        "        smallest_index = current_index\n",
        "        for i in range(current_index + 1, len(array)):\n",
        "            if array[i] < array[smallest_index]:\n",
        "                smallest_index = i\n",
        "        swap(current_index, smallest_index, array)\n",
        "        current_index += 1\n",
        "    return array\n",
        "\n",
        "def swap(i, j, array):\n",
        "    array[i], array[j] = array[j], array[i]"
      ],
      "metadata": {
        "id": "DTlDy3Ulhb7G"
      },
      "execution_count": null,
      "outputs": []
    },
    {
      "cell_type": "code",
      "source": [
        "input_array = [8, 5, 2, 9, 5, 6, 3]\n",
        "sorted_array = selectionSort(input_array)\n",
        "print(\"Sorted Array: \", sorted_array)"
      ],
      "metadata": {
        "id": "RDHQx8MFtZJr",
        "outputId": "9b8784b0-bf0e-4e65-f181-fa6349f1ae1c",
        "colab": {
          "base_uri": "https://localhost:8080/"
        }
      },
      "execution_count": null,
      "outputs": [
        {
          "output_type": "stream",
          "name": "stdout",
          "text": [
            "Sorted Array:  [2, 3, 5, 5, 6, 8, 9]\n"
          ]
        }
      ]
    },
    {
      "cell_type": "markdown",
      "source": [
        "5. Find Closest Value in BST"
      ],
      "metadata": {
        "id": "JLCcRdNzbyU7"
      }
    },
    {
      "cell_type": "code",
      "source": [
        "class BST:\n",
        "    def __init__(self, value):\n",
        "        self.value = value\n",
        "        self.left = None\n",
        "        self.right = None\n",
        "\n",
        "    def insert(self, value):\n",
        "        if value < self.value:\n",
        "            if self.left is None:\n",
        "                self.left = BST(value)\n",
        "            else:\n",
        "                self.left.insert(value)\n",
        "        else:\n",
        "            if self.right is None:\n",
        "                self.right = BST(value)\n",
        "            else:\n",
        "                self.right.insert(value)\n",
        "        return self\n",
        "\n",
        "def findClosestValueInBst(tree, target):\n",
        "    return findClosestValueInBstHelper(tree, target, float(\"inf\"))\n",
        "\n",
        "# Solution 1\n",
        "# Avarage: O(log(n)) time | O(log(n)) space\n",
        "# Worst: O(n) time | O(n) space\n",
        "def findClosestValueInBstHelper(tree, target, closest):\n",
        "    if tree is None:\n",
        "        return closest\n",
        "    if abs(target - closest) > abs(tree.value - target):\n",
        "        closest = tree.value\n",
        "    if target < tree.value:\n",
        "        return findClosestValueInBstHelper(tree.left, target, closest)\n",
        "    elif target > tree.value:\n",
        "        return findClosestValueInBstHelper(tree.right, target, closest)\n",
        "    else:\n",
        "        return closest"
      ],
      "metadata": {
        "id": "7Ol6ku9EbxcY"
      },
      "execution_count": null,
      "outputs": []
    },
    {
      "cell_type": "markdown",
      "source": [
        "6. Binary Search\n"
      ],
      "metadata": {
        "id": "XZV9L-B5hpOA"
      }
    },
    {
      "cell_type": "code",
      "source": [
        "# Avarage: O(log(n)) time\n",
        "def binary_search(array, target):\n",
        "    left, right = 0, len(array)-1\n",
        "    while left<=right:\n",
        "        mid = (left+right)//2\n",
        "        if array[mid] = target:\n",
        "          return mid\n",
        "        elif array[mid]>target:\n",
        "          right = mid-1\n",
        "        else:\n",
        "          left = mid-1\n",
        "    return -1"
      ],
      "metadata": {
        "id": "BVfaxcreIU6F"
      },
      "execution_count": null,
      "outputs": []
    },
    {
      "cell_type": "markdown",
      "source": [
        "7. BST Traversal\n"
      ],
      "metadata": {
        "id": "5DXQJBukE8fS"
      }
    },
    {
      "cell_type": "code",
      "source": [
        "# https://www.algoexpert.io/questions/BST%20Traversal\n",
        "\n",
        "class BST:\n",
        "\n",
        "    def __init__(self, value):\n",
        "        self.value = value\n",
        "        self.left = None\n",
        "        self.right = None\n",
        "\n",
        " # Average: O(log(n)) time | O(1) space\n",
        " # Worst: O(n) time | O(1) space\n",
        "    def insert(self, value):\n",
        "        currentNode = self\n",
        "        while True:\n",
        "            if value < currentNode.value:\n",
        "                if currentNode.left is None:\n",
        "                    currentNode.left = BST(value)\n",
        "                    break\n",
        "                else:\n",
        "                    currentNode = currentNode.left\n",
        "            else:\n",
        "                if currentNode.right is None:\n",
        "                    currentNode.right = BST(value)\n",
        "                    break\n",
        "                else:\n",
        "                    currentNode = currentNode.right\n",
        "        return self\n",
        "\n",
        "\n",
        "# O(n) time | O(n) space\n",
        "def in_order_traverse(tree, array):\n",
        "    if tree is not None:\n",
        "        in_order_traverse(tree.left, array)\n",
        "        array.append(tree.value)\n",
        "        in_order_traverse(tree.right, array)\n",
        "    return array\n",
        "\n",
        "\n",
        "# O(n) time | O(n) space\n",
        "def pre_order_traverse(tree, array):\n",
        "    if tree is not None:\n",
        "        array.append(tree.value)\n",
        "        in_order_traverse(tree.left, array)\n",
        "        in_order_traverse(tree.right, array)\n",
        "    return array\n",
        "\n",
        "\n",
        "# O(n) time | O(n) space\n",
        "def post_order_traverse(tree, array):\n",
        "    if tree is not None:\n",
        "        in_order_traverse(tree.left, array)\n",
        "        in_order_traverse(tree.right, array)\n",
        "        array.append(tree.value)\n",
        "    return array\n",
        "\n",
        "\n",
        "# driver/test code\n",
        "test_tree = BST(100).insert(5).insert(15).insert(5).insert(2).insert(1).insert(22) \\\n",
        "    .insert(1).insert(1).insert(3).insert(1).insert(1).insert(502).insert(55000) \\\n",
        "    .insert(204).insert(205).insert(207).insert(206).insert(208).insert(203) \\\n",
        "    .insert(-51).insert(-403).insert(1001).insert(57).insert(60).insert(4500)"
      ],
      "metadata": {
        "id": "dD5PmkJkE8w9"
      },
      "execution_count": 1,
      "outputs": []
    }
  ]
}