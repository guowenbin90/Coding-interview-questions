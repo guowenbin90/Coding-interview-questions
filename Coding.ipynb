{
  "nbformat": 4,
  "nbformat_minor": 0,
  "metadata": {
    "colab": {
      "name": "Coding.ipynb",
      "provenance": [],
      "authorship_tag": "ABX9TyPc/4CtKvQY2O6YXHsu2ihH",
      "include_colab_link": true
    },
    "kernelspec": {
      "name": "python3",
      "display_name": "Python 3"
    },
    "language_info": {
      "name": "python"
    }
  },
  "cells": [
    {
      "cell_type": "markdown",
      "metadata": {
        "id": "view-in-github",
        "colab_type": "text"
      },
      "source": [
        "<a href=\"https://colab.research.google.com/github/guowenbin90/Coding-interview-questions/blob/main/Coding.ipynb\" target=\"_parent\"><img src=\"https://colab.research.google.com/assets/colab-badge.svg\" alt=\"Open In Colab\"/></a>"
      ]
    },
    {
      "cell_type": "markdown",
      "source": [
        "1. Two Number Sum"
      ],
      "metadata": {
        "id": "8ooKVszmFNzU"
      }
    },
    {
      "cell_type": "code",
      "execution_count": 4,
      "metadata": {
        "colab": {
          "base_uri": "https://localhost:8080/"
        },
        "id": "JN8D0I5yFEQf",
        "outputId": "b7f00be1-276b-451e-8c3f-4cd17c17b64a"
      },
      "outputs": [
        {
          "output_type": "stream",
          "name": "stdout",
          "text": [
            "[-1, 11]\n"
          ]
        }
      ],
      "source": [
        "# Solution 1 starts\n",
        "# O(n^2) time | O(1) space\n",
        "def twoNumberSum(array, targetSum):\n",
        "    result_list = []\n",
        "    for i in range(0, len(array) - 1):\n",
        "        first_number = array[i]\n",
        "        for j in range(i + 1, len(array)):\n",
        "            second_number = array[j]\n",
        "            sum = first_number + second_number\n",
        "            if sum == targetSum:\n",
        "                result_list.append(first_number)\n",
        "                result_list.append(second_number)\n",
        "\n",
        "    return sorted(result_list)\n",
        "# Solution 1 ends\n",
        "\n",
        "# Solution 2 starts\n",
        "# O(n) time | O(n) space\n",
        "def twoNumberSum2(array, targetSum):\n",
        "    result_list = []\n",
        "    for i in range(0, len(array) - 1):\n",
        "        first_number = array[i]\n",
        "        second_nsumber_expected = targetSum - first_number\n",
        "        secondary_array = array[i + 1:len(array)]\n",
        "        if second_nsumber_expected in secondary_array:\n",
        "            result_list.append(first_number)\n",
        "            result_list.append(second_nsumber_expected)\n",
        "\n",
        "    return sorted(result_list)\n",
        "# Solution 2 ends\n",
        "\n",
        "# Solution 3 starts\n",
        "# O(nlogn) time | O(1) space\n",
        "def twoNumberSum3(array, targetSum):\n",
        "    array.sort()\n",
        "    left = 0\n",
        "    right = len(array) - 1\n",
        "    while left < right:\n",
        "        current_sum = array[left] + array[right]\n",
        "        if current_sum == targetSum:\n",
        "            return [array[left], array[right]]\n",
        "        elif current_sum < targetSum:\n",
        "            left += 1\n",
        "        elif current_sum > targetSum:\n",
        "            right -= 1\n",
        "\n",
        "    return []\n",
        "# Solution 3 ends\n",
        "print(twoNumberSum([5, 3, -4, 8, 11, 1, -1, 6], 10))\n"
      ]
    }
  ]
}